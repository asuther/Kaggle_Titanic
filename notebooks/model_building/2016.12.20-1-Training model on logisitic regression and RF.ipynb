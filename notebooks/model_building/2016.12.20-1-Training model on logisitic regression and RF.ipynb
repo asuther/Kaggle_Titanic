{
 "cells": [
  {
   "cell_type": "markdown",
   "metadata": {},
   "source": [
    "# Training model on logisitic regression and RF"
   ]
  },
  {
   "cell_type": "code",
   "execution_count": 54,
   "metadata": {
    "collapsed": true
   },
   "outputs": [],
   "source": [
    "import sys\n",
    "sys.path.append('./../../src/')\n",
    "import numpy as np\n",
    "import pandas as pd\n",
    "\n",
    "%matplotlib inline\n",
    "import matplotlib.pyplot as plt\n",
    "import seaborn as sns\n",
    "sns.set_context(context = 'notebook', font_scale=1.5)\n",
    "import Data_Loader"
   ]
  },
  {
   "cell_type": "code",
   "execution_count": 2,
   "metadata": {
    "collapsed": true
   },
   "outputs": [],
   "source": [
    "X, y = Data_Loader.load_training_data(data_path='final_data/train_with_fam_deck.csv')"
   ]
  },
  {
   "cell_type": "markdown",
   "metadata": {},
   "source": [
    "## Preprocessing the data"
   ]
  },
  {
   "cell_type": "markdown",
   "metadata": {},
   "source": [
    "Dropping the unnecessary features"
   ]
  },
  {
   "cell_type": "code",
   "execution_count": 3,
   "metadata": {
    "collapsed": false
   },
   "outputs": [],
   "source": [
    "X_v1 = X.drop(['Name', 'Ticket', 'Cabin'], axis=1)"
   ]
  },
  {
   "cell_type": "markdown",
   "metadata": {},
   "source": [
    "Converting Pclass to a string so it will become one-hot encoded:"
   ]
  },
  {
   "cell_type": "code",
   "execution_count": 4,
   "metadata": {
    "collapsed": true
   },
   "outputs": [],
   "source": [
    "X_v1['Pclass'] = X_v1['Pclass'].astype(str)"
   ]
  },
  {
   "cell_type": "markdown",
   "metadata": {},
   "source": [
    "I need to make dummy variables"
   ]
  },
  {
   "cell_type": "code",
   "execution_count": 5,
   "metadata": {
    "collapsed": false
   },
   "outputs": [],
   "source": [
    "X_v2 = pd.get_dummies(X_v1)"
   ]
  },
  {
   "cell_type": "markdown",
   "metadata": {},
   "source": [
    "Looking at which columns have missing values:"
   ]
  },
  {
   "cell_type": "code",
   "execution_count": 27,
   "metadata": {
    "collapsed": false
   },
   "outputs": [
    {
     "data": {
      "text/plain": [
       "Age           177.0\n",
       "SibSp           NaN\n",
       "Parch           NaN\n",
       "Fare            NaN\n",
       "FamilySize      NaN\n",
       "Pclass_1        NaN\n",
       "Pclass_2        NaN\n",
       "Pclass_3        NaN\n",
       "Sex_female      NaN\n",
       "Sex_male        NaN\n",
       "Embarked_C      NaN\n",
       "Embarked_Q      NaN\n",
       "Embarked_S      NaN\n",
       "Deck_A          NaN\n",
       "Deck_B          NaN\n",
       "Deck_C          NaN\n",
       "Deck_D          NaN\n",
       "Deck_E          NaN\n",
       "Deck_F          NaN\n",
       "Deck_G          NaN\n",
       "Deck_T          NaN\n",
       "Deck_UNK        NaN\n",
       "dtype: float64"
      ]
     },
     "execution_count": 27,
     "metadata": {},
     "output_type": "execute_result"
    }
   ],
   "source": [
    "X_v2.isnull().replace(False, np.nan).sum()"
   ]
  },
  {
   "cell_type": "markdown",
   "metadata": {},
   "source": [
    "So there are only missing values in the Age column"
   ]
  },
  {
   "cell_type": "markdown",
   "metadata": {},
   "source": [
    "Imputing the ages with the mean:"
   ]
  },
  {
   "cell_type": "code",
   "execution_count": 7,
   "metadata": {
    "collapsed": false
   },
   "outputs": [],
   "source": [
    "import sklearn.preprocessing as skl_pre"
   ]
  },
  {
   "cell_type": "code",
   "execution_count": 14,
   "metadata": {
    "collapsed": false
   },
   "outputs": [],
   "source": [
    "imputer = skl_pre.Imputer(verbose=1)\n",
    "\n",
    "X_v3 = pd.DataFrame(imputer.fit_transform(X_v2), columns=X_v2.columns)"
   ]
  },
  {
   "cell_type": "code",
   "execution_count": 28,
   "metadata": {
    "collapsed": false
   },
   "outputs": [
    {
     "data": {
      "text/html": [
       "<div>\n",
       "<table border=\"1\" class=\"dataframe\">\n",
       "  <thead>\n",
       "    <tr style=\"text-align: right;\">\n",
       "      <th></th>\n",
       "      <th>Age</th>\n",
       "      <th>SibSp</th>\n",
       "      <th>Parch</th>\n",
       "      <th>Fare</th>\n",
       "      <th>FamilySize</th>\n",
       "      <th>Pclass_1</th>\n",
       "      <th>Pclass_2</th>\n",
       "      <th>Pclass_3</th>\n",
       "      <th>Sex_female</th>\n",
       "      <th>Sex_male</th>\n",
       "      <th>...</th>\n",
       "      <th>Embarked_S</th>\n",
       "      <th>Deck_A</th>\n",
       "      <th>Deck_B</th>\n",
       "      <th>Deck_C</th>\n",
       "      <th>Deck_D</th>\n",
       "      <th>Deck_E</th>\n",
       "      <th>Deck_F</th>\n",
       "      <th>Deck_G</th>\n",
       "      <th>Deck_T</th>\n",
       "      <th>Deck_UNK</th>\n",
       "    </tr>\n",
       "  </thead>\n",
       "  <tbody>\n",
       "    <tr>\n",
       "      <th>0</th>\n",
       "      <td>22.0</td>\n",
       "      <td>1.0</td>\n",
       "      <td>0.0</td>\n",
       "      <td>7.2500</td>\n",
       "      <td>2.0</td>\n",
       "      <td>0.0</td>\n",
       "      <td>0.0</td>\n",
       "      <td>1.0</td>\n",
       "      <td>0.0</td>\n",
       "      <td>1.0</td>\n",
       "      <td>...</td>\n",
       "      <td>1.0</td>\n",
       "      <td>0.0</td>\n",
       "      <td>0.0</td>\n",
       "      <td>0.0</td>\n",
       "      <td>0.0</td>\n",
       "      <td>0.0</td>\n",
       "      <td>0.0</td>\n",
       "      <td>0.0</td>\n",
       "      <td>0.0</td>\n",
       "      <td>1.0</td>\n",
       "    </tr>\n",
       "    <tr>\n",
       "      <th>1</th>\n",
       "      <td>38.0</td>\n",
       "      <td>1.0</td>\n",
       "      <td>0.0</td>\n",
       "      <td>71.2833</td>\n",
       "      <td>2.0</td>\n",
       "      <td>1.0</td>\n",
       "      <td>0.0</td>\n",
       "      <td>0.0</td>\n",
       "      <td>1.0</td>\n",
       "      <td>0.0</td>\n",
       "      <td>...</td>\n",
       "      <td>0.0</td>\n",
       "      <td>0.0</td>\n",
       "      <td>0.0</td>\n",
       "      <td>1.0</td>\n",
       "      <td>0.0</td>\n",
       "      <td>0.0</td>\n",
       "      <td>0.0</td>\n",
       "      <td>0.0</td>\n",
       "      <td>0.0</td>\n",
       "      <td>0.0</td>\n",
       "    </tr>\n",
       "  </tbody>\n",
       "</table>\n",
       "<p>2 rows × 22 columns</p>\n",
       "</div>"
      ],
      "text/plain": [
       "    Age  SibSp  Parch     Fare  FamilySize  Pclass_1  Pclass_2  Pclass_3  \\\n",
       "0  22.0    1.0    0.0   7.2500         2.0       0.0       0.0       1.0   \n",
       "1  38.0    1.0    0.0  71.2833         2.0       1.0       0.0       0.0   \n",
       "\n",
       "   Sex_female  Sex_male    ...     Embarked_S  Deck_A  Deck_B  Deck_C  Deck_D  \\\n",
       "0         0.0       1.0    ...            1.0     0.0     0.0     0.0     0.0   \n",
       "1         1.0       0.0    ...            0.0     0.0     0.0     1.0     0.0   \n",
       "\n",
       "   Deck_E  Deck_F  Deck_G  Deck_T  Deck_UNK  \n",
       "0     0.0     0.0     0.0     0.0       1.0  \n",
       "1     0.0     0.0     0.0     0.0       0.0  \n",
       "\n",
       "[2 rows x 22 columns]"
      ]
     },
     "execution_count": 28,
     "metadata": {},
     "output_type": "execute_result"
    }
   ],
   "source": [
    "X_v3.head(2)"
   ]
  },
  {
   "cell_type": "code",
   "execution_count": 29,
   "metadata": {
    "collapsed": false
   },
   "outputs": [
    {
     "data": {
      "text/plain": [
       "Age          NaN\n",
       "SibSp        NaN\n",
       "Parch        NaN\n",
       "Fare         NaN\n",
       "FamilySize   NaN\n",
       "Pclass_1     NaN\n",
       "Pclass_2     NaN\n",
       "Pclass_3     NaN\n",
       "Sex_female   NaN\n",
       "Sex_male     NaN\n",
       "Embarked_C   NaN\n",
       "Embarked_Q   NaN\n",
       "Embarked_S   NaN\n",
       "Deck_A       NaN\n",
       "Deck_B       NaN\n",
       "Deck_C       NaN\n",
       "Deck_D       NaN\n",
       "Deck_E       NaN\n",
       "Deck_F       NaN\n",
       "Deck_G       NaN\n",
       "Deck_T       NaN\n",
       "Deck_UNK     NaN\n",
       "dtype: float64"
      ]
     },
     "execution_count": 29,
     "metadata": {},
     "output_type": "execute_result"
    }
   ],
   "source": [
    "X_v3.isnull().replace(False, np.nan).sum()"
   ]
  },
  {
   "cell_type": "markdown",
   "metadata": {},
   "source": [
    "Now there are no missing values"
   ]
  },
  {
   "cell_type": "markdown",
   "metadata": {},
   "source": [
    "## Logistic Model"
   ]
  },
  {
   "cell_type": "code",
   "execution_count": 30,
   "metadata": {
    "collapsed": true
   },
   "outputs": [],
   "source": [
    "import sklearn.linear_model as skl_lm\n",
    "import sklearn.model_selection as skl_ms"
   ]
  },
  {
   "cell_type": "code",
   "execution_count": 52,
   "metadata": {
    "collapsed": false
   },
   "outputs": [],
   "source": [
    "lr_gs_clf = skl_ms.GridSearchCV(estimator=skl_lm.LogisticRegression(),\n",
    "                                param_grid = [{'penalty': ['l1'], 'C':np.logspace(-5,5, num=30)},\n",
    "                                             {'penalty': ['l2'], 'C':np.logspace(-5,5, num=30)}],\n",
    "                               cv = 5)\n",
    "lr_gs_clf.fit(X_v3, y);"
   ]
  },
  {
   "cell_type": "code",
   "execution_count": 67,
   "metadata": {
    "collapsed": false
   },
   "outputs": [
    {
     "data": {
      "image/png": "[encoded data removed]",
      "text/plain": [
       "<matplotlib.figure.Figure at 0x7f0ab2239690>"
      ]
     },
     "metadata": {},
     "output_type": "display_data"
    }
   ],
   "source": [
    "lr_cv_results = pd.DataFrame(lr_gs_clf.cv_results_)\n",
    "\n",
    "sns.lmplot(x = 'param_C', y = 'mean_test_score', \n",
    "           data = lr_cv_results, \n",
    "           fit_reg=False, hue = 'param_penalty', logx=True,\n",
    "          size = 6, aspect=1.7)\n",
    "ax = plt.gca()\n",
    "ax.set_xlim([1e-5,1e5])\n",
    "ax.set_xscale('log')"
   ]
  },
  {
   "cell_type": "markdown",
   "metadata": {},
   "source": [
    "This shows that our best test score occurs at a C value of 0.1. It only barely achieves a 0.8 score though:"
   ]
  },
  {
   "cell_type": "markdown",
   "metadata": {},
   "source": [
    "## Random Forest"
   ]
  },
  {
   "cell_type": "code",
   "execution_count": 58,
   "metadata": {
    "collapsed": true
   },
   "outputs": [],
   "source": [
    "import sklearn.ensemble as skl_ensemble"
   ]
  },
  {
   "cell_type": "code",
   "execution_count": 59,
   "metadata": {
    "collapsed": true
   },
   "outputs": [],
   "source": [
    "rf_gs_clf = skl_ms.GridSearchCV(estimator=skl_ensemble.RandomForestClassifier(),\n",
    "                                param_grid = [{'n_estimators':[10, 100, 1000], 'max_depth':[None, 2, 4, 8, 16, 32], 'min_samples_split':[2, 4]}],\n",
    "                               cv = 5,\n",
    "                               n_jobs = 6)\n",
    "rf_gs_clf.fit(X_v3, y);"
   ]
  },
  {
   "cell_type": "code",
   "execution_count": 65,
   "metadata": {
    "collapsed": false
   },
   "outputs": [
    {
     "data": {
      "image/png": "[encoded data removed]",
      "text/plain": [
       "<matplotlib.figure.Figure at 0x7f0ab3784050>"
      ]
     },
     "metadata": {},
     "output_type": "display_data"
    }
   ],
   "source": [
    "rf_cv_results = pd.DataFrame(rf_gs_clf.cv_results_)\n",
    "\n",
    "sns.lmplot(x = 'param_n_estimators', y = 'mean_test_score', \n",
    "           data = rf_cv_results, \n",
    "           fit_reg=False, hue = 'param_max_depth', logx=True,\n",
    "          size = 6, aspect=1.7)\n",
    "ax = plt.gca()\n",
    "ax.set_xlim([1e-1,1e4])\n",
    "ax.set_xscale('log')"
   ]
  },
  {
   "cell_type": "markdown",
   "metadata": {},
   "source": [
    "These get a better score than with logistic regression. I will use 100 estimators with 32 max_depth"
   ]
  },
  {
   "cell_type": "code",
   "execution_count": null,
   "metadata": {
    "collapsed": true
   },
   "outputs": [],
   "source": []
  }
 ],
 "metadata": {
  "kernelspec": {
   "display_name": "Python 2",
   "language": "python",
   "name": "python2"
  },
  "language_info": {
   "codemirror_mode": {
    "name": "ipython",
    "version": 2
   },
   "file_extension": ".py",
   "mimetype": "text/x-python",
   "name": "python",
   "nbconvert_exporter": "python",
   "pygments_lexer": "ipython2",
   "version": "2.7.12"
  }
 },
 "nbformat": 4,
 "nbformat_minor": 1
}
