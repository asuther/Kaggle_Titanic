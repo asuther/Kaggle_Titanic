{
 "cells": [
  {
   "cell_type": "markdown",
   "metadata": {},
   "source": [
    "# Data Investigation\n",
    "\n",
    "**Methods:**\n",
    ">1. Load training data\n",
    ">2. Investigate features\n",
    ">3. Cleanse any features that require cleansing"
   ]
  },
  {
   "cell_type": "code",
   "execution_count": 1,
   "metadata": {
    "collapsed": true
   },
   "outputs": [],
   "source": [
    "import numpy as np\n",
    "import pandas as pd\n",
    "\n",
    "import matplotlib.pyplot as plt\n",
    "import seaborn as sns"
   ]
  },
  {
   "cell_type": "markdown",
   "metadata": {},
   "source": [
    "## 1. Load training data"
   ]
  },
  {
   "cell_type": "code",
   "execution_count": 2,
   "metadata": {
    "collapsed": true
   },
   "outputs": [],
   "source": [
    "data_train = pd.read_csv('./../../data/raw/train.csv')"
   ]
  },
  {
   "cell_type": "markdown",
   "metadata": {},
   "source": [
    "## 2. Investigate features"
   ]
  },
  {
   "cell_type": "markdown",
   "metadata": {},
   "source": [
    "First, let me look at each of the features by itself:"
   ]
  },
  {
   "cell_type": "markdown",
   "metadata": {},
   "source": [
    "### PassengerId"
   ]
  },
  {
   "cell_type": "code",
   "execution_count": 19,
   "metadata": {
    "collapsed": false,
    "scrolled": false
   },
   "outputs": [
    {
     "name": "stdout",
     "output_type": "stream",
     "text": [
      "\n",
      "###########\n",
      "PassengerId\n",
      "\n",
      "Value Counts:\n",
      "891    1\n",
      "293    1\n",
      "304    1\n",
      "303    1\n",
      "302    1\n",
      "301    1\n",
      "300    1\n",
      "299    1\n",
      "298    1\n",
      "297    1\n",
      "Name: PassengerId, dtype: int64\n",
      "\n",
      "Describe\n",
      "count    891.000000\n",
      "mean     446.000000\n",
      "std      257.353842\n",
      "min        1.000000\n",
      "25%      223.500000\n",
      "50%      446.000000\n",
      "75%      668.500000\n",
      "max      891.000000\n",
      "Name: PassengerId, dtype: float64\n"
     ]
    }
   ],
   "source": [
    "feature_name = data_train.columns[0]\n",
    "print \n",
    "print '###########'\n",
    "print feature_name\n",
    "print\n",
    "print 'Value Counts:'\n",
    "print data_train[feature_name].value_counts().head(10)\n",
    "print\n",
    "print 'Describe'\n",
    "print data_train[feature_name].describe()"
   ]
  },
  {
   "cell_type": "markdown",
   "metadata": {},
   "source": [
    "* This is a unique identifier for each passenger. There are 891 passengers total\n",
    "\n",
    "#### ToDo: I will set this to data frame index after loading the data in the data_loader library"
   ]
  },
  {
   "cell_type": "markdown",
   "metadata": {},
   "source": [
    "### Survived"
   ]
  },
  {
   "cell_type": "code",
   "execution_count": 18,
   "metadata": {
    "collapsed": false
   },
   "outputs": [
    {
     "name": "stdout",
     "output_type": "stream",
     "text": [
      "\n",
      "###########\n",
      "Survived\n",
      "\n",
      "Value Counts:\n",
      "0    549\n",
      "1    342\n",
      "Name: Survived, dtype: int64\n",
      "\n",
      "Describe\n",
      "count    891.000000\n",
      "mean       0.383838\n",
      "std        0.486592\n",
      "min        0.000000\n",
      "25%        0.000000\n",
      "50%        0.000000\n",
      "75%        1.000000\n",
      "max        1.000000\n",
      "Name: Survived, dtype: float64\n"
     ]
    }
   ],
   "source": [
    "feature_name = data_train.columns[1]\n",
    "print \n",
    "print '###########'\n",
    "print feature_name\n",
    "print\n",
    "print 'Value Counts:'\n",
    "print data_train[feature_name].value_counts()\n",
    "print\n",
    "print 'Describe'\n",
    "print data_train[feature_name].describe()"
   ]
  },
  {
   "cell_type": "markdown",
   "metadata": {},
   "source": [
    "* The Survived response variable is binary, with less people surviving than not. \n",
    "\n",
    "#### ToDo: Convert the Survived variable to a category variable "
   ]
  },
  {
   "cell_type": "markdown",
   "metadata": {},
   "source": [
    "### Pclass"
   ]
  },
  {
   "cell_type": "code",
   "execution_count": 20,
   "metadata": {
    "collapsed": false
   },
   "outputs": [
    {
     "name": "stdout",
     "output_type": "stream",
     "text": [
      "\n",
      "###########\n",
      "Pclass\n",
      "\n",
      "Value Counts:\n",
      "3    491\n",
      "1    216\n",
      "2    184\n",
      "Name: Pclass, dtype: int64\n",
      "\n",
      "Describe\n",
      "count    891.000000\n",
      "mean       2.308642\n",
      "std        0.836071\n",
      "min        1.000000\n",
      "25%        2.000000\n",
      "50%        3.000000\n",
      "75%        3.000000\n",
      "max        3.000000\n",
      "Name: Pclass, dtype: float64\n"
     ]
    }
   ],
   "source": [
    "feature_name = data_train.columns[2]\n",
    "print \n",
    "print '###########'\n",
    "print feature_name\n",
    "print\n",
    "print 'Value Counts:'\n",
    "print data_train[feature_name].value_counts()\n",
    "print\n",
    "print 'Describe'\n",
    "print data_train[feature_name].describe()"
   ]
  },
  {
   "cell_type": "markdown",
   "metadata": {},
   "source": [
    "* Stands for \"Passenger Class.\" 1 = first class. The other two are lower classes\n",
    "* There are quite a few Pclass=3 units.\n",
    "* All passengers have a pclass assigned to them\n",
    "\n",
    "#### ToDo: Convert Pclass into a category"
   ]
  },
  {
   "cell_type": "markdown",
   "metadata": {},
   "source": [
    "### Name"
   ]
  },
  {
   "cell_type": "code",
   "execution_count": 22,
   "metadata": {
    "collapsed": false
   },
   "outputs": [
    {
     "name": "stdout",
     "output_type": "stream",
     "text": [
      "\n",
      "###########\n",
      "Name\n",
      "\n",
      "Value Counts:\n",
      "Graham, Mr. George Edward                              1\n",
      "Elias, Mr. Tannous                                     1\n",
      "Madill, Miss. Georgette Alexandra                      1\n",
      "Cumings, Mrs. John Bradley (Florence Briggs Thayer)    1\n",
      "Beane, Mrs. Edward (Ethel Clarke)                      1\n",
      "Roebling, Mr. Washington Augustus II                   1\n",
      "Moran, Mr. James                                       1\n",
      "Padro y Manent, Mr. Julian                             1\n",
      "Scanlan, Mr. James                                     1\n",
      "Ali, Mr. William                                       1\n",
      "Name: Name, dtype: int64\n"
     ]
    }
   ],
   "source": [
    "feature_name = data_train.columns[3]\n",
    "print \n",
    "print '###########'\n",
    "print feature_name\n",
    "print\n",
    "print 'Value Counts:'\n",
    "print data_train[feature_name].value_counts().head(10)"
   ]
  },
  {
   "cell_type": "markdown",
   "metadata": {},
   "source": [
    "* The given name of each passenger. \n",
    "* These are likely not be useful, save without a deep NLP investigation. \n",
    "* We get the passenger's sex in another column, so it's not necessary to extract that here. Same with familial connections.\n",
    "\n",
    "#### ToDo: Drop Name from training data"
   ]
  },
  {
   "cell_type": "markdown",
   "metadata": {},
   "source": [
    "### Sex"
   ]
  },
  {
   "cell_type": "code",
   "execution_count": 23,
   "metadata": {
    "collapsed": false
   },
   "outputs": [
    {
     "name": "stdout",
     "output_type": "stream",
     "text": [
      "\n",
      "###########\n",
      "Sex\n",
      "\n",
      "Value Counts:\n",
      "male      577\n",
      "female    314\n",
      "Name: Sex, dtype: int64\n",
      "\n",
      "Describe\n",
      "count      891\n",
      "unique       2\n",
      "top       male\n",
      "freq       577\n",
      "Name: Sex, dtype: object\n"
     ]
    }
   ],
   "source": [
    "feature_name = data_train.columns[4]\n",
    "print \n",
    "print '###########'\n",
    "print feature_name\n",
    "print\n",
    "print 'Value Counts:'\n",
    "print data_train[feature_name].value_counts().head(10)\n",
    "print\n",
    "print 'Describe'\n",
    "print data_train[feature_name].describe()"
   ]
  },
  {
   "cell_type": "markdown",
   "metadata": {},
   "source": [
    "* More males than females. Every entry has an associated sex\n",
    "\n",
    "\n",
    "#### ToDo: Convert sex into a category"
   ]
  },
  {
   "cell_type": "markdown",
   "metadata": {},
   "source": [
    "### Age"
   ]
  },
  {
   "cell_type": "code",
   "execution_count": 24,
   "metadata": {
    "collapsed": false
   },
   "outputs": [
    {
     "name": "stdout",
     "output_type": "stream",
     "text": [
      "\n",
      "###########\n",
      "Age\n",
      "\n",
      "Value Counts:\n",
      "24.0    30\n",
      "22.0    27\n",
      "18.0    26\n",
      "30.0    25\n",
      "28.0    25\n",
      "19.0    25\n",
      "21.0    24\n",
      "25.0    23\n",
      "36.0    22\n",
      "29.0    20\n",
      "Name: Age, dtype: int64\n",
      "\n",
      "Describe\n",
      "count    714.000000\n",
      "mean      29.699118\n",
      "std       14.526497\n",
      "min        0.420000\n",
      "25%             NaN\n",
      "50%             NaN\n",
      "75%             NaN\n",
      "max       80.000000\n",
      "Name: Age, dtype: float64\n"
     ]
    },
    {
     "name": "stderr",
     "output_type": "stream",
     "text": [
      "/home/lundi/.virtualenvs/default_venv/local/lib/python2.7/site-packages/numpy/lib/function_base.py:3834: RuntimeWarning: Invalid value encountered in percentile\n",
      "  RuntimeWarning)\n"
     ]
    }
   ],
   "source": [
    "feature_name = data_train.columns[5]\n",
    "print \n",
    "print '###########'\n",
    "print feature_name\n",
    "print\n",
    "print 'Value Counts:'\n",
    "print data_train[feature_name].value_counts().head(10)\n",
    "print\n",
    "print 'Describe'\n",
    "print data_train[feature_name].describe()"
   ]
  },
  {
   "cell_type": "markdown",
   "metadata": {},
   "source": [
    "* There are quite a few units with missing ages (177 cases)\n",
    "* There are some babies on the ship: the minimum age is 0.42\n",
    "* The average age is 29.7\n",
    "\n",
    "#### ToDo: Attempt imputation methods, using the actual ages as a benchmark. Use the best one on the 177 missing cases"
   ]
  },
  {
   "cell_type": "markdown",
   "metadata": {},
   "source": [
    "### SibSp"
   ]
  },
  {
   "cell_type": "code",
   "execution_count": 26,
   "metadata": {
    "collapsed": false
   },
   "outputs": [
    {
     "name": "stdout",
     "output_type": "stream",
     "text": [
      "\n",
      "###########\n",
      "SibSp\n",
      "\n",
      "Value Counts:\n",
      "0    608\n",
      "1    209\n",
      "2     28\n",
      "4     18\n",
      "3     16\n",
      "8      7\n",
      "5      5\n",
      "Name: SibSp, dtype: int64\n",
      "\n",
      "Describe\n",
      "count    891.000000\n",
      "mean       0.523008\n",
      "std        1.102743\n",
      "min        0.000000\n",
      "25%        0.000000\n",
      "50%        0.000000\n",
      "75%        1.000000\n",
      "max        8.000000\n",
      "Name: SibSp, dtype: float64\n"
     ]
    }
   ],
   "source": [
    "feature_name = data_train.columns[6]\n",
    "print \n",
    "print '###########'\n",
    "print feature_name\n",
    "print\n",
    "print 'Value Counts:'\n",
    "print data_train[feature_name].value_counts().head(10)\n",
    "print\n",
    "print 'Describe'\n",
    "print data_train[feature_name].describe()"
   ]
  },
  {
   "cell_type": "markdown",
   "metadata": {},
   "source": [
    "* Number of Siblings/Spouses Aboard\n",
    "* No missing values\n",
    "* Most people had 0 siblings/spouses aboard\n",
    "* The next largest segment was 1 sibling/spouse. These people are very likely married without kids or a couple\n",
    "* Everything 3 and above is likely to be family\n",
    "    * There are 5 cases where the passenger had 5 siblings/spouses. This are likely all from the same family\n",
    "\n",
    "#### ToDo: Create dummy variables for [\"alone\", \"couple\", and \"family\"]\n",
    "#### ToDo: Look up if the larger families fared better than the smaller families"
   ]
  },
  {
   "cell_type": "markdown",
   "metadata": {},
   "source": [
    "### Parch"
   ]
  },
  {
   "cell_type": "code",
   "execution_count": 27,
   "metadata": {
    "collapsed": false
   },
   "outputs": [
    {
     "name": "stdout",
     "output_type": "stream",
     "text": [
      "\n",
      "###########\n",
      "Parch\n",
      "\n",
      "Value Counts:\n",
      "0    678\n",
      "1    118\n",
      "2     80\n",
      "5      5\n",
      "3      5\n",
      "4      4\n",
      "6      1\n",
      "Name: Parch, dtype: int64\n",
      "\n",
      "Describe\n",
      "count    891.000000\n",
      "mean       0.381594\n",
      "std        0.806057\n",
      "min        0.000000\n",
      "25%        0.000000\n",
      "50%        0.000000\n",
      "75%        0.000000\n",
      "max        6.000000\n",
      "Name: Parch, dtype: float64\n"
     ]
    }
   ],
   "source": [
    "feature_name = data_train.columns[7]\n",
    "print \n",
    "print '###########'\n",
    "print feature_name\n",
    "print\n",
    "print 'Value Counts:'\n",
    "print data_train[feature_name].value_counts().head(10)\n",
    "print\n",
    "print 'Describe'\n",
    "print data_train[feature_name].describe()"
   ]
  },
  {
   "cell_type": "markdown",
   "metadata": {},
   "source": [
    "* Number of parents/children aboard\n",
    "* This could be used along with siblings/spouse to figure out the status of each member\n",
    "\n",
    "#### ToDo: Create a feature that takes both sibsp and ParCh, and creates a \"familial_status\" categorical variable"
   ]
  },
  {
   "cell_type": "markdown",
   "metadata": {},
   "source": [
    "### Ticket"
   ]
  },
  {
   "cell_type": "code",
   "execution_count": 28,
   "metadata": {
    "collapsed": false
   },
   "outputs": [
    {
     "name": "stdout",
     "output_type": "stream",
     "text": [
      "\n",
      "###########\n",
      "Ticket\n",
      "\n",
      "Value Counts:\n",
      "CA. 2343        7\n",
      "347082          7\n",
      "1601            7\n",
      "347088          6\n",
      "CA 2144         6\n",
      "3101295         6\n",
      "382652          5\n",
      "S.O.C. 14879    5\n",
      "PC 17757        4\n",
      "4133            4\n",
      "Name: Ticket, dtype: int64\n",
      "\n",
      "Describe\n",
      "count          891\n",
      "unique         681\n",
      "top       CA. 2343\n",
      "freq             7\n",
      "Name: Ticket, dtype: object\n"
     ]
    }
   ],
   "source": [
    "feature_name = data_train.columns[8]\n",
    "print \n",
    "print '###########'\n",
    "print feature_name\n",
    "print\n",
    "print 'Value Counts:'\n",
    "print data_train[feature_name].value_counts().head(10)\n",
    "print\n",
    "print 'Describe'\n",
    "print data_train[feature_name].describe()"
   ]
  },
  {
   "cell_type": "markdown",
   "metadata": {},
   "source": [
    "* The ticket number\n",
    "* Could gives clues as to which passengers are related, since their tickets should be similarly named"
   ]
  },
  {
   "cell_type": "markdown",
   "metadata": {},
   "source": [
    "### Fare"
   ]
  },
  {
   "cell_type": "code",
   "execution_count": 30,
   "metadata": {
    "collapsed": false
   },
   "outputs": [
    {
     "name": "stdout",
     "output_type": "stream",
     "text": [
      "\n",
      "###########\n",
      "Fare\n",
      "\n",
      "Value Counts:\n",
      "8.0500     43\n",
      "13.0000    42\n",
      "7.8958     38\n",
      "7.7500     34\n",
      "26.0000    31\n",
      "10.5000    24\n",
      "7.9250     18\n",
      "7.7750     16\n",
      "7.2292     15\n",
      "26.5500    15\n",
      "Name: Fare, dtype: int64\n",
      "\n",
      "Describe\n",
      "count    891.000000\n",
      "mean      32.204208\n",
      "std       49.693429\n",
      "min        0.000000\n",
      "25%        7.910400\n",
      "50%       14.454200\n",
      "75%       31.000000\n",
      "max      512.329200\n",
      "Name: Fare, dtype: float64\n"
     ]
    }
   ],
   "source": [
    "feature_name = data_train.columns[9]\n",
    "print \n",
    "print '###########'\n",
    "print feature_name\n",
    "print\n",
    "print 'Value Counts:'\n",
    "print data_train[feature_name].value_counts().head(10)\n",
    "print\n",
    "print 'Describe'\n",
    "print data_train[feature_name].describe()"
   ]
  },
  {
   "cell_type": "markdown",
   "metadata": {},
   "source": [
    "* Passenger fare\n",
    "* No missing values\n",
    "* Could also be used to group passengers together. It's possible that the ticket number and this price could link couples and families together\n",
    "\n",
    "#### ToDo: Investigate if the ticket number and fare cost can link couples together. Linked couples could be informative to see if having a survived spouse increased the survival of the other spouse. \n",
    "\n",
    "#### ToDo: After finding links between couples, check if one of the spouses survived, does the other spouse have a higher chance of surviving"
   ]
  },
  {
   "cell_type": "markdown",
   "metadata": {},
   "source": [
    "### Cabin"
   ]
  },
  {
   "cell_type": "code",
   "execution_count": 32,
   "metadata": {
    "collapsed": false
   },
   "outputs": [
    {
     "name": "stdout",
     "output_type": "stream",
     "text": [
      "\n",
      "###########\n",
      "Cabin\n",
      "\n",
      "Value Counts:\n",
      "C23 C25 C27        4\n",
      "G6                 4\n",
      "B96 B98            4\n",
      "D                  3\n",
      "C22 C26            3\n",
      "E101               3\n",
      "F2                 3\n",
      "F33                3\n",
      "B57 B59 B63 B66    2\n",
      "C68                2\n",
      "Name: Cabin, dtype: int64\n",
      "\n",
      "Describe\n",
      "count             204\n",
      "unique            147\n",
      "top       C23 C25 C27\n",
      "freq                4\n",
      "Name: Cabin, dtype: object\n"
     ]
    }
   ],
   "source": [
    "feature_name = data_train.columns[10]\n",
    "print \n",
    "print '###########'\n",
    "print feature_name\n",
    "print\n",
    "print 'Value Counts:'\n",
    "print data_train[feature_name].value_counts().head(10)\n",
    "print\n",
    "print 'Describe'\n",
    "print data_train[feature_name].describe()"
   ]
  },
  {
   "cell_type": "markdown",
   "metadata": {},
   "source": [
    "* There are only 204 counts, which is very low\n",
    "\n",
    "#### ToDo: Drop \"Cabin\" from the features"
   ]
  },
  {
   "cell_type": "code",
   "execution_count": 33,
   "metadata": {
    "collapsed": false
   },
   "outputs": [
    {
     "name": "stdout",
     "output_type": "stream",
     "text": [
      "\n",
      "###########\n",
      "Embarked\n",
      "\n",
      "Value Counts:\n",
      "S    644\n",
      "C    168\n",
      "Q     77\n",
      "Name: Embarked, dtype: int64\n",
      "\n",
      "Describe\n",
      "count     889\n",
      "unique      3\n",
      "top         S\n",
      "freq      644\n",
      "Name: Embarked, dtype: object\n"
     ]
    }
   ],
   "source": [
    "feature_name = data_train.columns[11]\n",
    "print \n",
    "print '###########'\n",
    "print feature_name\n",
    "print\n",
    "print 'Value Counts:'\n",
    "print data_train[feature_name].value_counts().head(10)\n",
    "print\n",
    "print 'Describe'\n",
    "print data_train[feature_name].describe()"
   ]
  },
  {
   "cell_type": "markdown",
   "metadata": {},
   "source": [
    "* Gives the port one embarked from\n",
    "* This could be useful in linking couples/families\n",
    "\n",
    "#### ToDo: Include this in the linking of couples/families"
   ]
  },
  {
   "cell_type": "markdown",
   "metadata": {},
   "source": [
    "## 3. Cleanse any features that require cleansing"
   ]
  },
  {
   "cell_type": "markdown",
   "metadata": {
    "collapsed": true
   },
   "source": [
    "Will perform a few investigations first and then move on to data cleansing"
   ]
  },
  {
   "cell_type": "code",
   "execution_count": null,
   "metadata": {
    "collapsed": true
   },
   "outputs": [],
   "source": []
  }
 ],
 "metadata": {
  "kernelspec": {
   "display_name": "Python 2",
   "language": "python",
   "name": "python2"
  },
  "language_info": {
   "codemirror_mode": {
    "name": "ipython",
    "version": 2
   },
   "file_extension": ".py",
   "mimetype": "text/x-python",
   "name": "python",
   "nbconvert_exporter": "python",
   "pygments_lexer": "ipython2",
   "version": "2.7.12"
  }
 },
 "nbformat": 4,
 "nbformat_minor": 1
}
